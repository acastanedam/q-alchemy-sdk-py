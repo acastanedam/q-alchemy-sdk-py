{
 "cells": [
  {
   "cell_type": "markdown",
   "metadata": {},
   "source": [
    "Copyright 2022 data cybernetics ssc GmbH.\n",
    "\n",
    "Licensed under the Apache License, Version 2.0 (the \"License\");\n",
    "you may not use this file except in compliance with the License.\n",
    "You may obtain a copy of the License at\n",
    "\n",
    "    http://www.apache.org/licenses/LICENSE-2.0\n",
    "\n",
    "Unless required by applicable law or agreed to in writing, software\n",
    "distributed under the License is distributed on an \"AS IS\" BASIS,\n",
    "WITHOUT WARRANTIES OR CONDITIONS OF ANY KIND, either express or implied.\n",
    "See the License for the specific language governing permissions and\n",
    "limitations under the License."
   ]
  },
  {
   "cell_type": "code",
   "execution_count": 1,
   "metadata": {
    "ExecuteTime": {
     "end_time": "2023-07-23T16:16:55.924857Z",
     "start_time": "2023-07-23T16:16:53.189826600Z"
    }
   },
   "outputs": [],
   "source": [
    "import numpy as np\n",
    "import pandas as pd\n",
    "import qiskit\n",
    "from q_alchemy import Client\n",
    "from q_alchemy.models import Strategy"
   ]
  },
  {
   "cell_type": "markdown",
   "source": [
    "# Creating a Client\n",
    "\n",
    "You can easily create a client as soon as you have an API key. You can get yours for free at https://portal.q-alchemy.com! Once you have that, please simply add it to the client constructor parameter `api_key`.\n",
    "\n",
    "The client connects to the Q-Alchemy Hypermedia+Siren API. You can check it out also at\n",
    "\n",
    "https://hypermedia-ui-demo.q-alchemy.com/hui?apiPath=https:%2F%2Fjobs.api.q-alchemy.com%2Fapi%2FEntryPoint\n",
    "\n",
    "where you can visually play around with it. The same methods are also available with this SDK!"
   ],
   "metadata": {
    "collapsed": false
   }
  },
  {
   "cell_type": "code",
   "execution_count": 2,
   "metadata": {
    "ExecuteTime": {
     "end_time": "2023-07-23T16:16:56.364713700Z",
     "start_time": "2023-07-23T16:16:55.928863200Z"
    }
   },
   "outputs": [
    {
     "data": {
      "text/plain": "JobsRoot(https://jobs.api.q-alchemy.com/api/Jobs)"
     },
     "execution_count": 2,
     "metadata": {},
     "output_type": "execute_result"
    }
   ],
   "source": [
    "# Creating a client is really simple: just add your API key!\n",
    "client = Client(api_key=\"<get your own at https://portal.q-alchemy.com>\")\n",
    "root = client.get_jobs_root()\n",
    "root"
   ]
  },
  {
   "cell_type": "markdown",
   "metadata": {},
   "source": [
    "# Create and Configure a new Job"
   ]
  },
  {
   "cell_type": "code",
   "execution_count": 3,
   "outputs": [
    {
     "data": {
      "text/plain": "Job(Created, https://jobs.api.q-alchemy.com/api/Jobs/Job/3600916e-9a15-4131-8f2b-4e9f5ea35233)"
     },
     "execution_count": 3,
     "metadata": {},
     "output_type": "execute_result"
    }
   ],
   "source": [
    "# Let us create a new and empty job, but rename it right away!\n",
    "job = root.create_job()\n",
    "job.rename(\"Carsten's Test-Job\")\n",
    "job"
   ],
   "metadata": {
    "collapsed": false,
    "ExecuteTime": {
     "end_time": "2023-07-23T16:17:00.454948600Z",
     "start_time": "2023-07-23T16:16:59.162557500Z"
    }
   }
  },
  {
   "cell_type": "code",
   "execution_count": 4,
   "metadata": {
    "ExecuteTime": {
     "end_time": "2023-07-23T16:17:04.081970500Z",
     "start_time": "2023-07-23T16:17:03.861769400Z"
    }
   },
   "outputs": [
    {
     "data": {
      "text/plain": "Config(Missing, https://jobs.api.q-alchemy.com/api/Jobs/Job/3600916e-9a15-4131-8f2b-4e9f5ea35233/Config)"
     },
     "execution_count": 4,
     "metadata": {},
     "output_type": "execute_result"
    }
   ],
   "source": [
    "# First, let us configure the job with the job's config\n",
    "# for that we summon up the config resource!\n",
    "config = job.get_config()\n",
    "config"
   ]
  },
  {
   "cell_type": "code",
   "execution_count": 5,
   "outputs": [
    {
     "data": {
      "text/plain": "JobConfig(max_fidelity_loss=0.1, strategy='Greedy', max_combination_size=0, use_low_rank=True, load_per_cyle=5000, secede_modulo=1, max_time_sec=1200, max_loops=200, max_nodes=50000, max_level=2, batch_size=100, log_level='INFO', redis_ttl_seconds=3600, tags=['Test Job', 'Q-Alchemy'])"
     },
     "execution_count": 5,
     "metadata": {},
     "output_type": "execute_result"
    }
   ],
   "source": [
    "# Create a job config with the fluent syntax:\n",
    "config.create_config() \\\n",
    "    .with_use_low_rank(True) \\\n",
    "    .with_max_fidelity_loss(0.1) \\\n",
    "    .with_strategy(Strategy.GREEDY) \\\n",
    "    .with_tags(\"Test Job\", \"Q-Alchemy\") \\\n",
    "    .upload()\n",
    "\n",
    "#Check out the job's config as it has been configured!\n",
    "job_config = config.job_config()\n",
    "job_config"
   ],
   "metadata": {
    "collapsed": false,
    "ExecuteTime": {
     "end_time": "2023-07-23T16:17:08.596085300Z",
     "start_time": "2023-07-23T16:17:07.781715200Z"
    }
   }
  },
  {
   "cell_type": "code",
   "execution_count": 6,
   "outputs": [
    {
     "data": {
      "text/plain": "(4096,)"
     },
     "execution_count": 6,
     "metadata": {},
     "output_type": "execute_result"
    }
   ],
   "source": [
    "# Now prepare to load a state vector. We support numpy arrays natively,\n",
    "# but under the hood pyarrow with parquet is used:\n",
    "vector = np.load(\"../tests/data/test_baa_state.12.1.npy\")\n",
    "vector.shape"
   ],
   "metadata": {
    "collapsed": false,
    "ExecuteTime": {
     "end_time": "2023-07-23T16:17:19.760106800Z",
     "start_time": "2023-07-23T16:17:19.729312100Z"
    }
   }
  },
  {
   "cell_type": "code",
   "execution_count": 7,
   "outputs": [
    {
     "data": {
      "text/plain": "(4096,)"
     },
     "execution_count": 7,
     "metadata": {},
     "output_type": "execute_result"
    }
   ],
   "source": [
    "# Upload the state vector now:\n",
    "state_vector = job.get_state_vector()\n",
    "state_vector.upload_vector(vector)\n",
    "\n",
    "# Check out, what the state actually is that you just uploaded:\n",
    "downloaded_vector = state_vector.get_vector()\n",
    "downloaded_vector.shape"
   ],
   "metadata": {
    "collapsed": false,
    "ExecuteTime": {
     "end_time": "2023-07-23T16:17:22.353221300Z",
     "start_time": "2023-07-23T16:17:20.860111100Z"
    }
   }
  },
  {
   "cell_type": "code",
   "execution_count": 9,
   "outputs": [
    {
     "data": {
      "text/plain": "StateVector(~9 qb, 12 qb, 54669 bytes, https://jobs.api.q-alchemy.com/api/Jobs/Job/3600916e-9a15-4131-8f2b-4e9f5ea35233/StateVector)"
     },
     "execution_count": 9,
     "metadata": {},
     "output_type": "execute_result"
    }
   ],
   "source": [
    "# Let's see, what the API found out about our state\n",
    "state_vector"
   ],
   "metadata": {
    "collapsed": false,
    "ExecuteTime": {
     "end_time": "2023-07-23T16:17:24.431734200Z",
     "start_time": "2023-07-23T16:17:24.406504600Z"
    }
   }
  },
  {
   "cell_type": "code",
   "execution_count": 10,
   "outputs": [
    {
     "data": {
      "text/plain": "'ReadyForProcessing'"
     },
     "execution_count": 10,
     "metadata": {},
     "output_type": "execute_result"
    }
   ],
   "source": [
    "# The Job should be ready for processing now, let's see if it is:\n",
    "job.update().state"
   ],
   "metadata": {
    "collapsed": false,
    "ExecuteTime": {
     "end_time": "2023-07-23T16:17:25.831238700Z",
     "start_time": "2023-07-23T16:17:25.531044400Z"
    }
   }
  },
  {
   "cell_type": "code",
   "execution_count": 11,
   "metadata": {
    "ExecuteTime": {
     "end_time": "2023-07-23T16:17:28.987769400Z",
     "start_time": "2023-07-23T16:17:26.889320300Z"
    }
   },
   "outputs": [
    {
     "data": {
      "text/plain": "True"
     },
     "execution_count": 11,
     "metadata": {},
     "output_type": "execute_result"
    }
   ],
   "source": [
    "# Since we are ready for processing, how about we start it?\n",
    "job.schedule()"
   ]
  },
  {
   "cell_type": "code",
   "execution_count": 14,
   "metadata": {
    "ExecuteTime": {
     "end_time": "2023-07-23T16:17:39.471549800Z",
     "start_time": "2023-07-23T16:17:38.913811900Z"
    }
   },
   "outputs": [
    {
     "name": "stdout",
     "output_type": "stream",
     "text": [
      "Completed\n"
     ]
    },
    {
     "data": {
      "text/plain": "   TimeElapsedSeconds  FidelityLoss  CxGatesSaved  CxGates  Level  Number\n0            0.000000      0.000000           0.0      0.0    0.0    -1.0\n1            2.607898      0.083916        2179.0      0.0    1.0     2.0\n2            4.181702      0.083916        2179.0      0.0    1.0     2.0",
      "text/html": "<div>\n<style scoped>\n    .dataframe tbody tr th:only-of-type {\n        vertical-align: middle;\n    }\n\n    .dataframe tbody tr th {\n        vertical-align: top;\n    }\n\n    .dataframe thead th {\n        text-align: right;\n    }\n</style>\n<table border=\"1\" class=\"dataframe\">\n  <thead>\n    <tr style=\"text-align: right;\">\n      <th></th>\n      <th>TimeElapsedSeconds</th>\n      <th>FidelityLoss</th>\n      <th>CxGatesSaved</th>\n      <th>CxGates</th>\n      <th>Level</th>\n      <th>Number</th>\n    </tr>\n  </thead>\n  <tbody>\n    <tr>\n      <th>0</th>\n      <td>0.000000</td>\n      <td>0.000000</td>\n      <td>0.0</td>\n      <td>0.0</td>\n      <td>0.0</td>\n      <td>-1.0</td>\n    </tr>\n    <tr>\n      <th>1</th>\n      <td>2.607898</td>\n      <td>0.083916</td>\n      <td>2179.0</td>\n      <td>0.0</td>\n      <td>1.0</td>\n      <td>2.0</td>\n    </tr>\n    <tr>\n      <th>2</th>\n      <td>4.181702</td>\n      <td>0.083916</td>\n      <td>2179.0</td>\n      <td>0.0</td>\n      <td>1.0</td>\n      <td>2.0</td>\n    </tr>\n  </tbody>\n</table>\n</div>"
     },
     "execution_count": 14,
     "metadata": {},
     "output_type": "execute_result"
    }
   ],
   "source": [
    "print(job.update().state)\n",
    "pd.DataFrame.from_records(job.get_result().get_result_evolution())"
   ]
  },
  {
   "cell_type": "code",
   "execution_count": 18,
   "metadata": {
    "ExecuteTime": {
     "end_time": "2023-07-23T16:19:40.126621200Z",
     "start_time": "2023-07-23T16:19:24.597142Z"
    }
   },
   "outputs": [
    {
     "data": {
      "text/plain": "1377"
     },
     "execution_count": 18,
     "metadata": {},
     "output_type": "execute_result"
    }
   ],
   "source": [
    "nodes = job.get_result().get_result_nodes()\n",
    "qc = nodes[0].to_circuit()\n",
    "qiskit.transpile(qc, basis_gates=[\"rx\", \"ry\", \"rz\", \"cx\", \"id\"], optimization_level=0).depth(lambda v: v[0].name == \"cx\")"
   ]
  },
  {
   "cell_type": "code",
   "execution_count": 19,
   "metadata": {
    "ExecuteTime": {
     "end_time": "2023-07-23T16:19:42.906438900Z",
     "start_time": "2023-07-23T16:19:40.129582600Z"
    }
   },
   "outputs": [
    {
     "data": {
      "text/plain": "503"
     },
     "execution_count": 19,
     "metadata": {},
     "output_type": "execute_result"
    }
   ],
   "source": [
    "qc = nodes[1].to_circuit()\n",
    "qiskit.transpile(qc, basis_gates=[\"rx\", \"ry\", \"rz\", \"cx\", \"id\"], optimization_level=0).depth(lambda v: v[0].name == \"cx\")"
   ]
  }
 ],
 "metadata": {
  "kernelspec": {
   "display_name": "Python 3 (ipykernel)",
   "language": "python",
   "name": "python3"
  },
  "language_info": {
   "codemirror_mode": {
    "name": "ipython",
    "version": 3
   },
   "file_extension": ".py",
   "mimetype": "text/x-python",
   "name": "python",
   "nbconvert_exporter": "python",
   "pygments_lexer": "ipython3",
   "version": "3.11.1"
  },
  "vscode": {
   "interpreter": {
    "hash": "ce5680798109f242478d03b2cda1d69093ea6e3befc1fb0d7613496472652099"
   }
  }
 },
 "nbformat": 4,
 "nbformat_minor": 1
}
