{
 "cells": [
  {
   "cell_type": "code",
   "execution_count": null,
   "id": "8b05dae0",
   "metadata": {},
   "outputs": [],
   "source": [
    "import numpy as np\n",
    "import pennylane as qml\n",
    "import torch\n",
    "\n",
    "from q_alchemy.pennylane_integration import AmplitudeEmbedding, OptParams\n",
    "from sklearn.datasets import make_moons\n",
    "\n",
    "# Sample data\n",
    "X, _ = make_moons(n_samples=5, noise=0.1)\n",
    "X = X / np.linalg.norm(X, axis=1, keepdims=True)  # Normalize each row for amplitude embedding\n",
    "\n",
    "# Create PennyLane device\n",
    "dev = qml.device(\"qiskit.aer\", wires=1)\n",
    "\n",
    "@qml.qnode(dev, interface=\"torch\")\n",
    "def circuit(x):\n",
    "    AmplitudeEmbedding(\n",
    "        x,\n",
    "        wires=[0],\n",
    "        use_research_function=\"baa_tucker_initialize\",\n",
    "        opt_params=OptParams(\n",
    "            max_fidelity_loss=0.0,\n",
    "            basis_gates=[\"id\", \"rx\", \"ry\", \"rz\", \"cx\"],\n",
    "            api_key=\"<your api key>\"\n",
    "        )\n",
    "    )\n",
    "    return qml.expval(qml.PauliZ(0))\n",
    "\n",
    "# Run the circuit on a batch of inputs\n",
    "X_tensor = torch.tensor(X, dtype=torch.float32)\n",
    "results = torch.stack([circuit(x) for x in X_tensor])\n",
    "print(results)"
   ]
  }
 ],
 "metadata": {
  "kernelspec": {
   "display_name": "qasdk",
   "language": "python",
   "name": "python3"
  },
  "language_info": {
   "codemirror_mode": {
    "name": "ipython",
    "version": 3
   },
   "file_extension": ".py",
   "mimetype": "text/x-python",
   "name": "python",
   "nbconvert_exporter": "python",
   "pygments_lexer": "ipython3",
   "version": "3.11.11"
  }
 },
 "nbformat": 4,
 "nbformat_minor": 5
}
