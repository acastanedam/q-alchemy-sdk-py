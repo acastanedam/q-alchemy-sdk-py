{
 "cells": [
  {
   "cell_type": "code",
   "execution_count": null,
   "id": "967b29cd-9551-4cdc-b43d-9aa752cfedb7",
   "metadata": {},
   "outputs": [],
   "source": [
    "from q_alchemy import Client"
   ]
  },
  {
   "cell_type": "code",
   "execution_count": null,
   "id": "49b4e9e4-6b5c-4592-8158-43ce879c165a",
   "metadata": {},
   "outputs": [],
   "source": [
    "client = Client(api_key=\"Ca059SDeh152yGTwR6XnAjpIQ2kDNDXY\")"
   ]
  },
  {
   "cell_type": "code",
   "execution_count": null,
   "id": "c7b66d7a-4849-4311-b09c-ae60d118aeab",
   "metadata": {},
   "outputs": [],
   "source": [
    "root = client.get_jobs_root()\n",
    "root"
   ]
  },
  {
   "cell_type": "code",
   "execution_count": null,
   "id": "a0ba4cfe-3b8f-470a-ba30-3ae8c1fcc958",
   "metadata": {},
   "outputs": [],
   "source": [
    "job = root.job_query(name_contains=\"e46fd749-76ff-43f0-ab18-90a422b72c74\").jobs[0]\n",
    "job"
   ]
  },
  {
   "cell_type": "code",
   "execution_count": null,
   "id": "2882ed5c-8a2f-4166-bfff-aea19b26d5b2",
   "metadata": {},
   "outputs": [],
   "source": [
    "state_vector = job.get_state_vector().get_vector()"
   ]
  },
  {
   "cell_type": "code",
   "execution_count": null,
   "id": "3a6853f1",
   "metadata": {},
   "outputs": [],
   "source": [
    "import pandas as pd\n",
    "\n",
    "pd.DataFrame.from_records(job.get_result().get_result_evolution())"
   ]
  },
  {
   "cell_type": "code",
   "execution_count": null,
   "id": "0c46eebe",
   "metadata": {},
   "outputs": [],
   "source": [
    "from dataclasses import asdict\n",
    "\n",
    "node = job.get_result().get_best_node().to_node()\n",
    "asdict(node)"
   ]
  },
  {
   "cell_type": "code",
   "execution_count": null,
   "id": "cd0f2beb",
   "metadata": {},
   "outputs": [],
   "source": [
    "node.qubits"
   ]
  },
  {
   "cell_type": "code",
   "execution_count": null,
   "id": "de0d35d7",
   "metadata": {},
   "outputs": [],
   "source": [
    "node.ranks"
   ]
  },
  {
   "cell_type": "code",
   "execution_count": null,
   "id": "daedb344",
   "metadata": {},
   "outputs": [],
   "source": [
    "node.vectors"
   ]
  },
  {
   "cell_type": "code",
   "execution_count": null,
   "id": "0fd292c1-e82e-4892-94bc-4ad519a4823a",
   "metadata": {},
   "outputs": [],
   "source": [
    "qc = job.get_result().get_best_node().to_circuit()\n",
    "qc.draw(fold=-1)"
   ]
  },
  {
   "cell_type": "code",
   "execution_count": null,
   "id": "22992402",
   "metadata": {},
   "outputs": [],
   "source": [
    "import qiskit\n",
    "\n",
    "qiskit.transpile(qc, basis_gates=['u1', 'u2', 'u3', 'cx'], optimization_level=3).draw(output=\"text\", fold=-1)"
   ]
  }
 ],
 "metadata": {
  "kernelspec": {
   "display_name": "Python 3 (ipykernel)",
   "language": "python",
   "name": "python3"
  },
  "language_info": {
   "codemirror_mode": {
    "name": "ipython",
    "version": 3
   },
   "file_extension": ".py",
   "mimetype": "text/x-python",
   "name": "python",
   "nbconvert_exporter": "python",
   "pygments_lexer": "ipython3",
   "version": "3.11.1"
  }
 },
 "nbformat": 4,
 "nbformat_minor": 5
}
