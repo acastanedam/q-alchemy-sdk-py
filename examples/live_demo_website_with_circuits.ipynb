{
 "cells": [
  {
   "cell_type": "code",
   "execution_count": 1,
   "id": "967b29cd-9551-4cdc-b43d-9aa752cfedb7",
   "metadata": {
    "ExecuteTime": {
     "end_time": "2023-09-13T18:27:28.172531300Z",
     "start_time": "2023-09-13T18:27:25.406301900Z"
    }
   },
   "outputs": [
    {
     "name": "stderr",
     "output_type": "stream",
     "text": [
      "C:\\Users\\cncen\\AppData\\Local\\pypoetry\\Cache\\virtualenvs\\q-alchemy-sdk-py-v-3QwRP--py3.11\\Lib\\site-packages\\pydantic\\_internal\\_config.py:261: UserWarning: Valid config keys have changed in V2:\n",
      "* 'json_dumps' has been removed\n",
      "  warnings.warn(message, UserWarning)\n"
     ]
    }
   ],
   "source": [
    "from q_alchemy import Client"
   ]
  },
  {
   "cell_type": "code",
   "execution_count": 2,
   "id": "49b4e9e4-6b5c-4592-8158-43ce879c165a",
   "metadata": {
    "ExecuteTime": {
     "end_time": "2023-09-13T18:27:28.173530Z",
     "start_time": "2023-09-13T18:27:28.161477600Z"
    }
   },
   "outputs": [],
   "source": [
    "client = Client(api_key=\"Ca059SDeh152yGTwR6XnAjpIQ2kDNDXY\")"
   ]
  },
  {
   "cell_type": "code",
   "execution_count": 3,
   "id": "c7b66d7a-4849-4311-b09c-ae60d118aeab",
   "metadata": {
    "ExecuteTime": {
     "end_time": "2023-09-13T18:27:28.534823400Z",
     "start_time": "2023-09-13T18:27:28.167527400Z"
    }
   },
   "outputs": [
    {
     "data": {
      "text/plain": "JobsRoot(https://jobs.api.q-alchemy.com/api/Jobs)"
     },
     "execution_count": 3,
     "metadata": {},
     "output_type": "execute_result"
    }
   ],
   "source": [
    "root = client.get_jobs_root()\n",
    "root"
   ]
  },
  {
   "cell_type": "code",
   "execution_count": 4,
   "id": "a0ba4cfe-3b8f-470a-ba30-3ae8c1fcc958",
   "metadata": {
    "ExecuteTime": {
     "end_time": "2023-09-13T18:27:29.277497100Z",
     "start_time": "2023-09-13T18:27:28.512663900Z"
    }
   },
   "outputs": [
    {
     "data": {
      "text/plain": "Job(Completed, https://jobs.api.q-alchemy.com/api/Jobs/Job/e46fd749-76ff-43f0-ab18-90a422b72c74)"
     },
     "execution_count": 4,
     "metadata": {},
     "output_type": "execute_result"
    }
   ],
   "source": [
    "job = root.job_query(name_contains=\"e46fd749-76ff-43f0-ab18-90a422b72c74\").jobs[0]\n",
    "job"
   ]
  },
  {
   "cell_type": "code",
   "execution_count": 5,
   "id": "2882ed5c-8a2f-4166-bfff-aea19b26d5b2",
   "metadata": {
    "ExecuteTime": {
     "end_time": "2023-09-13T18:27:32.518157600Z",
     "start_time": "2023-09-13T18:27:29.253181900Z"
    }
   },
   "outputs": [],
   "source": [
    "state_vector = job.get_state_vector().get_vector()"
   ]
  },
  {
   "cell_type": "code",
   "execution_count": 6,
   "id": "3a6853f1",
   "metadata": {
    "ExecuteTime": {
     "end_time": "2023-09-13T18:27:32.742906800Z",
     "start_time": "2023-09-13T18:27:32.521159500Z"
    }
   },
   "outputs": [
    {
     "data": {
      "text/plain": "   TimeElapsedSeconds  FidelityLoss  CxGatesSaved  CxGates  Level  Number\n0            0.000000      0.000000           0.0      0.0    0.0    -1.0\n1            5.829532      0.000000           0.0      0.0    0.0    -1.0\n2           10.098747      0.143776          16.0      0.0    1.0     1.0\n3           15.048047      0.145778          17.0      0.0    2.0     2.0\n4           21.009179      0.145778          17.0      0.0    2.0     2.0",
      "text/html": "<div>\n<style scoped>\n    .dataframe tbody tr th:only-of-type {\n        vertical-align: middle;\n    }\n\n    .dataframe tbody tr th {\n        vertical-align: top;\n    }\n\n    .dataframe thead th {\n        text-align: right;\n    }\n</style>\n<table border=\"1\" class=\"dataframe\">\n  <thead>\n    <tr style=\"text-align: right;\">\n      <th></th>\n      <th>TimeElapsedSeconds</th>\n      <th>FidelityLoss</th>\n      <th>CxGatesSaved</th>\n      <th>CxGates</th>\n      <th>Level</th>\n      <th>Number</th>\n    </tr>\n  </thead>\n  <tbody>\n    <tr>\n      <th>0</th>\n      <td>0.000000</td>\n      <td>0.000000</td>\n      <td>0.0</td>\n      <td>0.0</td>\n      <td>0.0</td>\n      <td>-1.0</td>\n    </tr>\n    <tr>\n      <th>1</th>\n      <td>5.829532</td>\n      <td>0.000000</td>\n      <td>0.0</td>\n      <td>0.0</td>\n      <td>0.0</td>\n      <td>-1.0</td>\n    </tr>\n    <tr>\n      <th>2</th>\n      <td>10.098747</td>\n      <td>0.143776</td>\n      <td>16.0</td>\n      <td>0.0</td>\n      <td>1.0</td>\n      <td>1.0</td>\n    </tr>\n    <tr>\n      <th>3</th>\n      <td>15.048047</td>\n      <td>0.145778</td>\n      <td>17.0</td>\n      <td>0.0</td>\n      <td>2.0</td>\n      <td>2.0</td>\n    </tr>\n    <tr>\n      <th>4</th>\n      <td>21.009179</td>\n      <td>0.145778</td>\n      <td>17.0</td>\n      <td>0.0</td>\n      <td>2.0</td>\n      <td>2.0</td>\n    </tr>\n  </tbody>\n</table>\n</div>"
     },
     "execution_count": 6,
     "metadata": {},
     "output_type": "execute_result"
    }
   ],
   "source": [
    "import pandas as pd\n",
    "\n",
    "pd.DataFrame.from_records(job.get_result().get_result_evolution())"
   ]
  },
  {
   "cell_type": "code",
   "execution_count": 7,
   "id": "0c46eebe",
   "metadata": {
    "ExecuteTime": {
     "end_time": "2023-09-13T18:27:33.628628700Z",
     "start_time": "2023-09-13T18:27:32.742906800Z"
    }
   },
   "outputs": [
    {
     "data": {
      "text/plain": "{'node_saved_cnots': 1,\n 'total_saved_cnots': 17,\n 'node_fidelity_loss': 0.002338013651456472,\n 'total_fidelity_loss': 0.14577756796312613,\n 'vectors': [[(-0.25794426623280126+0j),\n   (-0.42742224670443063+0j),\n   (-0.48033198016626194+0j),\n   (-0.13428096048122717+0j),\n   (-0.403326198484465+0j),\n   (-0.2873091593816337+0j),\n   (-0.24306604559135198+0j),\n   (-0.44466292070919+0j)],\n  [(0.7558701376646721+0j), (0.6547215705830911+0j)],\n  [(-0.6254262599990805+0j), (-0.7802832776008736+0j)]],\n 'qubits': [[0, 2, 4], [1], [3]],\n 'ranks': [1, 1, 1],\n 'partitions': [None, None, None],\n 'nodes': []}"
     },
     "execution_count": 7,
     "metadata": {},
     "output_type": "execute_result"
    }
   ],
   "source": [
    "from dataclasses import asdict\n",
    "\n",
    "node = job.get_result().get_best_node().to_node()\n",
    "asdict(node)"
   ]
  },
  {
   "cell_type": "code",
   "execution_count": 8,
   "id": "cd0f2beb",
   "metadata": {
    "ExecuteTime": {
     "end_time": "2023-09-13T18:27:33.629631Z",
     "start_time": "2023-09-13T18:27:33.578261700Z"
    }
   },
   "outputs": [
    {
     "data": {
      "text/plain": "[[0, 2, 4], [1], [3]]"
     },
     "execution_count": 8,
     "metadata": {},
     "output_type": "execute_result"
    }
   ],
   "source": [
    "node.qubits"
   ]
  },
  {
   "cell_type": "code",
   "execution_count": 9,
   "id": "de0d35d7",
   "metadata": {
    "ExecuteTime": {
     "end_time": "2023-09-13T18:27:33.672244700Z",
     "start_time": "2023-09-13T18:27:33.630629600Z"
    }
   },
   "outputs": [
    {
     "data": {
      "text/plain": "[1, 1, 1]"
     },
     "execution_count": 9,
     "metadata": {},
     "output_type": "execute_result"
    }
   ],
   "source": [
    "node.ranks"
   ]
  },
  {
   "cell_type": "code",
   "execution_count": 10,
   "id": "daedb344",
   "metadata": {
    "ExecuteTime": {
     "end_time": "2023-09-13T18:27:34.849046200Z",
     "start_time": "2023-09-13T18:27:34.809508400Z"
    }
   },
   "outputs": [
    {
     "data": {
      "text/plain": "[[(-0.25794426623280126+0j),\n  (-0.42742224670443063+0j),\n  (-0.48033198016626194+0j),\n  (-0.13428096048122717+0j),\n  (-0.403326198484465+0j),\n  (-0.2873091593816337+0j),\n  (-0.24306604559135198+0j),\n  (-0.44466292070919+0j)],\n [(0.7558701376646721+0j), (0.6547215705830911+0j)],\n [(-0.6254262599990805+0j), (-0.7802832776008736+0j)]]"
     },
     "execution_count": 10,
     "metadata": {},
     "output_type": "execute_result"
    }
   ],
   "source": [
    "node.vectors"
   ]
  },
  {
   "cell_type": "code",
   "execution_count": 11,
   "id": "0fd292c1-e82e-4892-94bc-4ad519a4823a",
   "metadata": {
    "ExecuteTime": {
     "end_time": "2023-09-13T18:27:37.579607200Z",
     "start_time": "2023-09-13T18:27:36.611829500Z"
    }
   },
   "outputs": [
    {
     "data": {
      "text/plain": "     ┌────────────────────────────────────────────────────────────────────────────────┐                           \nq_0: ┤0                                                                               ├───────────────────────────\n     │                                                                                │┌─────────────────────────┐\nq_1: ┤                                                                                ├┤ LRSP(-0.62543,-0.78028) ├\n     │                                                                                │└─────────────────────────┘\nq_2: ┤1 LRSP(-0.25794,-0.42742,-0.48033,-0.13428,-0.40333,-0.28731,-0.24307,-0.44466) ├───────────────────────────\n     │                                                                                │ ┌───────────────────────┐ \nq_3: ┤                                                                                ├─┤ LRSP(0.75587,0.65472) ├─\n     │                                                                                │ └───────────────────────┘ \nq_4: ┤2                                                                               ├───────────────────────────\n     └────────────────────────────────────────────────────────────────────────────────┘                           ",
      "text/html": "<pre style=\"word-wrap: normal;white-space: pre;background: #fff0;line-height: 1.1;font-family: &quot;Courier New&quot;,Courier,monospace\">     ┌────────────────────────────────────────────────────────────────────────────────┐                           \nq_0: ┤0                                                                               ├───────────────────────────\n     │                                                                                │┌─────────────────────────┐\nq_1: ┤                                                                                ├┤ LRSP(-0.62543,-0.78028) ├\n     │                                                                                │└─────────────────────────┘\nq_2: ┤1 LRSP(-0.25794,-0.42742,-0.48033,-0.13428,-0.40333,-0.28731,-0.24307,-0.44466) ├───────────────────────────\n     │                                                                                │ ┌───────────────────────┐ \nq_3: ┤                                                                                ├─┤ LRSP(0.75587,0.65472) ├─\n     │                                                                                │ └───────────────────────┘ \nq_4: ┤2                                                                               ├───────────────────────────\n     └────────────────────────────────────────────────────────────────────────────────┘                           </pre>"
     },
     "execution_count": 11,
     "metadata": {},
     "output_type": "execute_result"
    }
   ],
   "source": [
    "qc = job.get_result().get_best_node().to_circuit()\n",
    "qc.draw(fold=-1)"
   ]
  },
  {
   "cell_type": "code",
   "execution_count": 12,
   "id": "22992402",
   "metadata": {
    "ExecuteTime": {
     "end_time": "2023-09-13T18:27:37.708529800Z",
     "start_time": "2023-09-13T18:27:37.559662500Z"
    }
   },
   "outputs": [
    {
     "data": {
      "text/plain": "      ┌────────────────┐                         \nq_0: ─┤ U3(1.5232,0,0) ├─────────────────────────\n      ├────────────────┤                         \nq_1: ─┤ U3(1.7902,0,0) ├─────────────────────────\n     ┌┴────────────────┴┐     ┌─────────────────┐\nq_2: ┤ U3(0.037144,0,0) ├──■──┤ U3(1.5203,0,-π) ├\n     └┬────────────────┬┘  │  └─────────────────┘\nq_3: ─┤ U3(1.4276,0,0) ├───┼─────────────────────\n      └────────────────┘ ┌─┴─┐┌─────────────────┐\nq_4: ────────────────────┤ X ├┤ U3(1.6237,0,-π) ├\n                         └───┘└─────────────────┘",
      "text/html": "<pre style=\"word-wrap: normal;white-space: pre;background: #fff0;line-height: 1.1;font-family: &quot;Courier New&quot;,Courier,monospace\">      ┌────────────────┐                         \nq_0: ─┤ U3(1.5232,0,0) ├─────────────────────────\n      ├────────────────┤                         \nq_1: ─┤ U3(1.7902,0,0) ├─────────────────────────\n     ┌┴────────────────┴┐     ┌─────────────────┐\nq_2: ┤ U3(0.037144,0,0) ├──■──┤ U3(1.5203,0,-π) ├\n     └┬────────────────┬┘  │  └─────────────────┘\nq_3: ─┤ U3(1.4276,0,0) ├───┼─────────────────────\n      └────────────────┘ ┌─┴─┐┌─────────────────┐\nq_4: ────────────────────┤ X ├┤ U3(1.6237,0,-π) ├\n                         └───┘└─────────────────┘</pre>"
     },
     "execution_count": 12,
     "metadata": {},
     "output_type": "execute_result"
    }
   ],
   "source": [
    "import qiskit\n",
    "\n",
    "qiskit.transpile(qc, basis_gates=['u1', 'u2', 'u3', 'cx'], optimization_level=3).draw(output=\"text\", fold=-1)"
   ]
  }
 ],
 "metadata": {
  "kernelspec": {
   "display_name": "Python 3 (ipykernel)",
   "language": "python",
   "name": "python3"
  },
  "language_info": {
   "codemirror_mode": {
    "name": "ipython",
    "version": 3
   },
   "file_extension": ".py",
   "mimetype": "text/x-python",
   "name": "python",
   "nbconvert_exporter": "python",
   "pygments_lexer": "ipython3",
   "version": "3.11.1"
  }
 },
 "nbformat": 4,
 "nbformat_minor": 5
}
