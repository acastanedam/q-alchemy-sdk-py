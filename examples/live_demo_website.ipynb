{
 "cells": [
  {
   "cell_type": "code",
   "execution_count": 1,
   "id": "967b29cd-9551-4cdc-b43d-9aa752cfedb7",
   "metadata": {
    "ExecuteTime": {
     "end_time": "2023-09-13T18:26:01.438400Z",
     "start_time": "2023-09-13T18:25:58.307661700Z"
    }
   },
   "outputs": [
    {
     "name": "stderr",
     "output_type": "stream",
     "text": [
      "C:\\Users\\cncen\\AppData\\Local\\pypoetry\\Cache\\virtualenvs\\q-alchemy-sdk-py-v-3QwRP--py3.11\\Lib\\site-packages\\pydantic\\_internal\\_config.py:261: UserWarning: Valid config keys have changed in V2:\n",
      "* 'json_dumps' has been removed\n",
      "  warnings.warn(message, UserWarning)\n"
     ]
    }
   ],
   "source": [
    "from q_alchemy import Client"
   ]
  },
  {
   "cell_type": "code",
   "execution_count": 2,
   "id": "49b4e9e4-6b5c-4592-8158-43ce879c165a",
   "metadata": {
    "ExecuteTime": {
     "end_time": "2023-09-13T18:26:01.440038400Z",
     "start_time": "2023-09-13T18:26:01.409122400Z"
    }
   },
   "outputs": [],
   "source": [
    "client = Client(api_key=\"Ca059SDeh152yGTwR6XnAjpIQ2kDNDXY\")"
   ]
  },
  {
   "cell_type": "code",
   "execution_count": 3,
   "outputs": [
    {
     "data": {
      "text/plain": "JobsRoot(https://jobs.api.q-alchemy.com/api/Jobs)"
     },
     "execution_count": 3,
     "metadata": {},
     "output_type": "execute_result"
    }
   ],
   "source": [
    "root = client.get_jobs_root()\n",
    "root"
   ],
   "metadata": {
    "collapsed": false,
    "ExecuteTime": {
     "end_time": "2023-09-13T18:26:01.871978600Z",
     "start_time": "2023-09-13T18:26:01.413117200Z"
    }
   },
   "id": "c7b66d7a-4849-4311-b09c-ae60d118aeab"
  },
  {
   "cell_type": "code",
   "execution_count": 4,
   "outputs": [],
   "source": [
    "qb = 12"
   ],
   "metadata": {
    "collapsed": false,
    "ExecuteTime": {
     "end_time": "2023-09-13T18:26:01.908149400Z",
     "start_time": "2023-09-13T18:26:01.819932400Z"
    }
   },
   "id": "4b9f5a52-7d84-4fb2-bd66-d58cb1eda7e1"
  },
  {
   "cell_type": "code",
   "execution_count": 5,
   "id": "89d657c7-5e8a-4000-9b14-9ce5267db0e1",
   "metadata": {
    "ExecuteTime": {
     "end_time": "2023-09-13T18:26:01.967311800Z",
     "start_time": "2023-09-13T18:26:01.834930300Z"
    }
   },
   "outputs": [
    {
     "data": {
      "text/plain": "0.24936026217403684"
     },
     "execution_count": 5,
     "metadata": {},
     "output_type": "execute_result"
    }
   ],
   "source": [
    "import numpy as np\n",
    "from qclib.entanglement import geometric_entanglement, meyer_wallach_entanglement\n",
    "\n",
    "state = np.random.uniform(size=2**qb)\n",
    "state = state / np.linalg.norm(state)\n",
    "geometric_entanglement(state)"
   ]
  },
  {
   "cell_type": "code",
   "execution_count": 6,
   "id": "9b176fa7-240e-4698-b6a0-7cc52a047ef8",
   "metadata": {
    "ExecuteTime": {
     "end_time": "2023-09-13T18:26:03.027172400Z",
     "start_time": "2023-09-13T18:26:01.949928Z"
    }
   },
   "outputs": [
    {
     "name": "stdout",
     "output_type": "stream",
     "text": [
      "...Final 0.5 (0.0974-0.5585)\n"
     ]
    },
    {
     "data": {
      "text/plain": "0.5585092645759335"
     },
     "execution_count": 6,
     "metadata": {},
     "output_type": "execute_result"
    }
   ],
   "source": [
    "from q_alchemy.random_circuits import get_vector\n",
    "\n",
    "state, entanglement, circuit_depth = get_vector(0.5, 0.8, qb, 0.5, 'geometric')\n",
    "\n",
    "entanglement"
   ]
  },
  {
   "cell_type": "code",
   "execution_count": 7,
   "id": "2cb04ed9-5cf7-4698-9efe-55fb9c2ce407",
   "metadata": {
    "ExecuteTime": {
     "end_time": "2023-09-13T18:26:03.027172400Z",
     "start_time": "2023-09-13T18:26:03.010740200Z"
    }
   },
   "outputs": [],
   "source": [
    "fid_loss = 0.21"
   ]
  },
  {
   "cell_type": "code",
   "execution_count": 9,
   "id": "a0ba4cfe-3b8f-470a-ba30-3ae8c1fcc958",
   "metadata": {
    "ExecuteTime": {
     "end_time": "2023-09-13T18:26:09.215683300Z",
     "start_time": "2023-09-13T18:26:08.535322500Z"
    }
   },
   "outputs": [
    {
     "data": {
      "text/plain": "Job(Created, https://jobs.api.q-alchemy.com/api/Jobs/Job/6057e5a0-c014-4172-87ab-937001e56fc4)"
     },
     "execution_count": 9,
     "metadata": {},
     "output_type": "execute_result"
    }
   ],
   "source": [
    "job = root.create_job()\n",
    "job"
   ]
  },
  {
   "cell_type": "code",
   "execution_count": 10,
   "id": "f950ed1d-0169-4999-ae8f-12dee66190ad",
   "metadata": {
    "ExecuteTime": {
     "end_time": "2023-09-13T18:26:11.482179800Z",
     "start_time": "2023-09-13T18:26:10.599460800Z"
    }
   },
   "outputs": [
    {
     "data": {
      "text/plain": "True"
     },
     "execution_count": 10,
     "metadata": {},
     "output_type": "execute_result"
    }
   ],
   "source": [
    "job.get_config().set_config(fid_loss, [f\"{qb}qb\", str(fid_loss)])"
   ]
  },
  {
   "cell_type": "code",
   "execution_count": 11,
   "id": "2882ed5c-8a2f-4166-bfff-aea19b26d5b2",
   "metadata": {
    "ExecuteTime": {
     "end_time": "2023-09-13T18:26:20.119027600Z",
     "start_time": "2023-09-13T18:26:17.579532100Z"
    }
   },
   "outputs": [
    {
     "data": {
      "text/plain": "True"
     },
     "execution_count": 11,
     "metadata": {},
     "output_type": "execute_result"
    }
   ],
   "source": [
    "job.get_state_vector().upload_vector(state)"
   ]
  },
  {
   "cell_type": "code",
   "execution_count": 12,
   "id": "d6789f98-396c-42ad-b9f4-b28636843c6c",
   "metadata": {
    "ExecuteTime": {
     "end_time": "2023-09-13T18:26:20.384275600Z",
     "start_time": "2023-09-13T18:26:20.098998900Z"
    }
   },
   "outputs": [
    {
     "data": {
      "text/plain": "Job(ReadyForProcessing, https://jobs.api.q-alchemy.com/api/Jobs/Job/6057e5a0-c014-4172-87ab-937001e56fc4)"
     },
     "execution_count": 12,
     "metadata": {},
     "output_type": "execute_result"
    }
   ],
   "source": [
    "job.update()"
   ]
  },
  {
   "cell_type": "code",
   "execution_count": 13,
   "id": "7215efa6-8570-421a-bb44-eaaeadec4177",
   "metadata": {
    "ExecuteTime": {
     "end_time": "2023-09-13T18:26:23.708059500Z",
     "start_time": "2023-09-13T18:26:22.483410100Z"
    }
   },
   "outputs": [
    {
     "data": {
      "text/plain": "True"
     },
     "execution_count": 13,
     "metadata": {},
     "output_type": "execute_result"
    }
   ],
   "source": [
    "job.schedule()"
   ]
  },
  {
   "cell_type": "code",
   "execution_count": 20,
   "id": "0fd292c1-e82e-4892-94bc-4ad519a4823a",
   "metadata": {
    "ExecuteTime": {
     "end_time": "2023-09-13T18:27:12.709734500Z",
     "start_time": "2023-09-13T18:27:11.818256100Z"
    }
   },
   "outputs": [
    {
     "data": {
      "text/plain": "Result(nodes=4, total_fidelity_loss=0.02241862596601152, total_saved_cnots=218, https://jobs.api.q-alchemy.com/api/Jobs/Job/6057e5a0-c014-4172-87ab-937001e56fc4/Result)"
     },
     "execution_count": 20,
     "metadata": {},
     "output_type": "execute_result"
    }
   ],
   "source": [
    "job.get_result()"
   ]
  }
 ],
 "metadata": {
  "kernelspec": {
   "display_name": "Python 3 (ipykernel)",
   "language": "python",
   "name": "python3"
  },
  "language_info": {
   "codemirror_mode": {
    "name": "ipython",
    "version": 3
   },
   "file_extension": ".py",
   "mimetype": "text/x-python",
   "name": "python",
   "nbconvert_exporter": "python",
   "pygments_lexer": "ipython3",
   "version": "3.11.1"
  }
 },
 "nbformat": 4,
 "nbformat_minor": 5
}
