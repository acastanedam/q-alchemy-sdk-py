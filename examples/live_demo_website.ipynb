{
 "cells": [
  {
   "cell_type": "code",
   "execution_count": null,
   "id": "967b29cd-9551-4cdc-b43d-9aa752cfedb7",
   "metadata": {},
   "outputs": [],
   "source": [
    "from q_alchemy import Client"
   ]
  },
  {
   "cell_type": "code",
   "execution_count": null,
   "id": "49b4e9e4-6b5c-4592-8158-43ce879c165a",
   "metadata": {},
   "outputs": [],
   "source": [
    "client = Client(api_key=\"Ca059SDeh152yGTwR6XnAjpIQ2kDNDXY\")"
   ]
  },
  {
   "cell_type": "code",
   "execution_count": null,
   "outputs": [],
   "source": [
    "root = client.get_jobs_root()\n",
    "root"
   ],
   "metadata": {
    "collapsed": false
   },
   "id": "c7b66d7a-4849-4311-b09c-ae60d118aeab"
  },
  {
   "cell_type": "code",
   "execution_count": null,
   "outputs": [],
   "source": [
    "qb = 12"
   ],
   "metadata": {
    "collapsed": false
   },
   "id": "4b9f5a52-7d84-4fb2-bd66-d58cb1eda7e1"
  },
  {
   "cell_type": "code",
   "execution_count": null,
   "id": "89d657c7-5e8a-4000-9b14-9ce5267db0e1",
   "metadata": {},
   "outputs": [],
   "source": [
    "import numpy as np\n",
    "from qclib.entanglement import geometric_entanglement, meyer_wallach_entanglement\n",
    "\n",
    "state = np.random.uniform(size=2**qb)\n",
    "state = state / np.linalg.norm(state)\n",
    "geometric_entanglement(state)"
   ]
  },
  {
   "cell_type": "code",
   "execution_count": null,
   "id": "9b176fa7-240e-4698-b6a0-7cc52a047ef8",
   "metadata": {},
   "outputs": [],
   "source": [
    "from q_alchemy.random_circuits import get_vector\n",
    "\n",
    "state, entanglement, circuit_depth = get_vector(0.5, 0.8, qb, 0.5, 'geometric')\n",
    "\n",
    "entanglement"
   ]
  },
  {
   "cell_type": "code",
   "execution_count": null,
   "id": "2cb04ed9-5cf7-4698-9efe-55fb9c2ce407",
   "metadata": {},
   "outputs": [],
   "source": [
    "fid_loss = 0.21"
   ]
  },
  {
   "cell_type": "code",
   "execution_count": null,
   "id": "a0ba4cfe-3b8f-470a-ba30-3ae8c1fcc958",
   "metadata": {},
   "outputs": [],
   "source": [
    "job = root.create_job()\n",
    "job"
   ]
  },
  {
   "cell_type": "code",
   "execution_count": null,
   "id": "f950ed1d-0169-4999-ae8f-12dee66190ad",
   "metadata": {},
   "outputs": [],
   "source": [
    "job.get_config().set_config(fid_loss, [f\"{qb}qb\", str(fid_loss)])"
   ]
  },
  {
   "cell_type": "code",
   "execution_count": null,
   "id": "2882ed5c-8a2f-4166-bfff-aea19b26d5b2",
   "metadata": {},
   "outputs": [],
   "source": [
    "job.get_state_vector().upload_vector(state)"
   ]
  },
  {
   "cell_type": "code",
   "execution_count": null,
   "id": "d6789f98-396c-42ad-b9f4-b28636843c6c",
   "metadata": {},
   "outputs": [],
   "source": [
    "job.update()"
   ]
  },
  {
   "cell_type": "code",
   "execution_count": null,
   "id": "7215efa6-8570-421a-bb44-eaaeadec4177",
   "metadata": {},
   "outputs": [],
   "source": [
    "job.schedule()"
   ]
  },
  {
   "cell_type": "code",
   "execution_count": null,
   "id": "0fd292c1-e82e-4892-94bc-4ad519a4823a",
   "metadata": {},
   "outputs": [],
   "source": [
    "job.get_result()"
   ]
  }
 ],
 "metadata": {
  "kernelspec": {
   "display_name": "Python 3 (ipykernel)",
   "language": "python",
   "name": "python3"
  },
  "language_info": {
   "codemirror_mode": {
    "name": "ipython",
    "version": 3
   },
   "file_extension": ".py",
   "mimetype": "text/x-python",
   "name": "python",
   "nbconvert_exporter": "python",
   "pygments_lexer": "ipython3",
   "version": "3.11.1"
  }
 },
 "nbformat": 4,
 "nbformat_minor": 5
}
